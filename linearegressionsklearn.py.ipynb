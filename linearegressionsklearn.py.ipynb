{
 "cells": [
  {
   "cell_type": "code",
   "execution_count": 1,
   "metadata": {
    "collapsed": true
   },
   "outputs": [],
   "source": [
    "# imports\n",
    "\n",
    "import matplotlib.pyplot as plt\n",
    "\n",
    "from sklearn import datasets, linear_model\n",
    "import pandas as pd\n",
    "\n",
    "# this allows plots to appear directly in the notebook\n",
    "%matplotlib inline\n",
    "\n"
   ]
  },
  {
   "cell_type": "code",
   "execution_count": 2,
   "metadata": {
    "scrolled": true
   },
   "outputs": [
    {
     "data": {
      "text/html": [
       "<div>\n",
       "<style>\n",
       "    .dataframe thead tr:only-child th {\n",
       "        text-align: right;\n",
       "    }\n",
       "\n",
       "    .dataframe thead th {\n",
       "        text-align: left;\n",
       "    }\n",
       "\n",
       "    .dataframe tbody tr th {\n",
       "        vertical-align: top;\n",
       "    }\n",
       "</style>\n",
       "<table border=\"1\" class=\"dataframe\">\n",
       "  <thead>\n",
       "    <tr style=\"text-align: right;\">\n",
       "      <th></th>\n",
       "      <th>score</th>\n",
       "      <th>num_comments</th>\n",
       "      <th>selftext</th>\n",
       "      <th>thumbnail</th>\n",
       "      <th>gilded</th>\n",
       "      <th>author</th>\n",
       "      <th>title</th>\n",
       "      <th>created_utc</th>\n",
       "      <th>subreddit</th>\n",
       "      <th>url</th>\n",
       "      <th>slang</th>\n",
       "    </tr>\n",
       "  </thead>\n",
       "  <tbody>\n",
       "    <tr>\n",
       "      <th>1</th>\n",
       "      <td>32970</td>\n",
       "      <td>26</td>\n",
       "      <td>NaN</td>\n",
       "      <td>httpsa.thumbs.redditmedia.com 033pqhzis1mxrwfi...</td>\n",
       "      <td>0</td>\n",
       "      <td>yoloswagmcfartnut</td>\n",
       "      <td>the official portrait of our president should ...</td>\n",
       "      <td>1480000000</td>\n",
       "      <td>thedonald</td>\n",
       "      <td>httpsi.redd.itwfy54vbjlpay.jpg</td>\n",
       "      <td>0</td>\n",
       "    </tr>\n",
       "    <tr>\n",
       "      <th>2</th>\n",
       "      <td>30465</td>\n",
       "      <td>116</td>\n",
       "      <td>NaN</td>\n",
       "      <td>httpsb.thumbs.redditmedia.comcnpncnezxeffkncvv...</td>\n",
       "      <td>0</td>\n",
       "      <td>falsesong</td>\n",
       "      <td>this portrait triggers the admins. lets make i...</td>\n",
       "      <td>1480000000</td>\n",
       "      <td>thedonald</td>\n",
       "      <td>httpsi.redd.it5jgg9u1mkpay.jpg</td>\n",
       "      <td>0</td>\n",
       "    </tr>\n",
       "    <tr>\n",
       "      <th>3</th>\n",
       "      <td>30226</td>\n",
       "      <td>729</td>\n",
       "      <td>NaN</td>\n",
       "      <td>httpsb.thumbs.redditmedia.comhzkkmvseme3j3ell7...</td>\n",
       "      <td>0</td>\n",
       "      <td>officialcnnreddit</td>\n",
       "      <td>due to spez stickies from thedonald will no lo...</td>\n",
       "      <td>1480000000</td>\n",
       "      <td>thedonald</td>\n",
       "      <td>httpimgur.comfklytf0</td>\n",
       "      <td>0</td>\n",
       "    </tr>\n",
       "    <tr>\n",
       "      <th>4</th>\n",
       "      <td>29215</td>\n",
       "      <td>1793</td>\n",
       "      <td>NaN</td>\n",
       "      <td>httpsb.thumbs.redditmedia.com0bqmw5u3n8g ylbml...</td>\n",
       "      <td>0</td>\n",
       "      <td>rubiosgaysecret</td>\n",
       "      <td>bernie sanders praises trump for tpp withdrawa...</td>\n",
       "      <td>1490000000</td>\n",
       "      <td>thedonald</td>\n",
       "      <td>httpspbs.twimg.commediac234wwwgaa0qwk.jpg</td>\n",
       "      <td>0</td>\n",
       "    </tr>\n",
       "    <tr>\n",
       "      <th>5</th>\n",
       "      <td>27238</td>\n",
       "      <td>805</td>\n",
       "      <td>NaN</td>\n",
       "      <td>httpsb.thumbs.redditmedia.comna5eqrwtbhqjxf9m1...</td>\n",
       "      <td>0</td>\n",
       "      <td>trumpisacatguy</td>\n",
       "      <td>216145 upvotes the most upvoted post in reddit...</td>\n",
       "      <td>1480000000</td>\n",
       "      <td>thedonald</td>\n",
       "      <td>httpsi.redd.itd8wfjq830k2y.jpg</td>\n",
       "      <td>0</td>\n",
       "    </tr>\n",
       "  </tbody>\n",
       "</table>\n",
       "</div>"
      ],
      "text/plain": [
       "   score  num_comments selftext  \\\n",
       "1  32970            26      NaN   \n",
       "2  30465           116      NaN   \n",
       "3  30226           729      NaN   \n",
       "4  29215          1793      NaN   \n",
       "5  27238           805      NaN   \n",
       "\n",
       "                                           thumbnail  gilded  \\\n",
       "1  httpsa.thumbs.redditmedia.com 033pqhzis1mxrwfi...       0   \n",
       "2  httpsb.thumbs.redditmedia.comcnpncnezxeffkncvv...       0   \n",
       "3  httpsb.thumbs.redditmedia.comhzkkmvseme3j3ell7...       0   \n",
       "4  httpsb.thumbs.redditmedia.com0bqmw5u3n8g ylbml...       0   \n",
       "5  httpsb.thumbs.redditmedia.comna5eqrwtbhqjxf9m1...       0   \n",
       "\n",
       "              author                                              title  \\\n",
       "1  yoloswagmcfartnut  the official portrait of our president should ...   \n",
       "2          falsesong  this portrait triggers the admins. lets make i...   \n",
       "3  officialcnnreddit  due to spez stickies from thedonald will no lo...   \n",
       "4    rubiosgaysecret  bernie sanders praises trump for tpp withdrawa...   \n",
       "5     trumpisacatguy  216145 upvotes the most upvoted post in reddit...   \n",
       "\n",
       "   created_utc  subreddit                                        url  slang  \n",
       "1   1480000000  thedonald             httpsi.redd.itwfy54vbjlpay.jpg      0  \n",
       "2   1480000000  thedonald             httpsi.redd.it5jgg9u1mkpay.jpg      0  \n",
       "3   1480000000  thedonald                       httpimgur.comfklytf0      0  \n",
       "4   1490000000  thedonald  httpspbs.twimg.commediac234wwwgaa0qwk.jpg      0  \n",
       "5   1480000000  thedonald             httpsi.redd.itd8wfjq830k2y.jpg      0  "
      ]
     },
     "execution_count": 2,
     "metadata": {},
     "output_type": "execute_result"
    }
   ],
   "source": [
    "# read data into a DataFrame\n",
    "data = pd.read_csv('/home/claudia/PycharmProjects/LinearRegression/outputok.csv', index_col=0)\n",
    "data.head()\n",
    "\n"
   ]
  },
  {
   "cell_type": "code",
   "execution_count": 3,
   "metadata": {},
   "outputs": [
    {
     "data": {
      "text/plain": [
       "(5603, 11)"
      ]
     },
     "execution_count": 3,
     "metadata": {},
     "output_type": "execute_result"
    }
   ],
   "source": [
    "# print the shape of the DataFrame\n",
    "data.shape"
   ]
  },
  {
   "cell_type": "code",
   "execution_count": 4,
   "metadata": {
    "scrolled": false
   },
   "outputs": [
    {
     "data": {
      "text/plain": [
       "<matplotlib.axes._subplots.AxesSubplot at 0x7f6a9b882208>"
      ]
     },
     "execution_count": 4,
     "metadata": {},
     "output_type": "execute_result"
    },
    {
     "data": {
      "image/png": "[encoded data removed]",
      "text/plain": [
       "<matplotlib.figure.Figure at 0x7f6a9b870240>"
      ]
     },
     "metadata": {},
     "output_type": "display_data"
    }
   ],
   "source": [
    "# visualize the relationship between the features and the response using scatterplots\n",
    "#fig, axs = plt.subplots(1, 1, sharey=True)\n",
    "#, ax=axs[0], figsize=(16, 8)\n",
    "data.plot(kind='scatter', x='score', y='num_comments')\n"
   ]
  },
  {
   "cell_type": "code",
   "execution_count": 5,
   "metadata": {
    "collapsed": true
   },
   "outputs": [],
   "source": [
    "Y = data['num_comments']\n",
    "X = data['score']\n",
    "X=X.values.reshape(len(X),1)\n",
    "Y=Y.values.reshape(len(Y),1)"
   ]
  },
  {
   "cell_type": "code",
   "execution_count": 6,
   "metadata": {
    "collapsed": true
   },
   "outputs": [],
   "source": [
    "# Split the data into training/testing sets\n",
    "X_train = X[:-1000]\n",
    "X_test = X[-5000:]\n",
    "# Split the targets into training/testing sets\n",
    "Y_train = Y[:-1000]\n",
    "Y_test = Y[-5000:]\n",
    " "
   ]
  },
  {
   "cell_type": "code",
   "execution_count": 7,
   "metadata": {},
   "outputs": [
    {
     "data": {
      "text/plain": [
       "[<matplotlib.lines.Line2D at 0x7f6a9aeeb7f0>]"
      ]
     },
     "execution_count": 7,
     "metadata": {},
     "output_type": "execute_result"
    },
    {
     "data": {
      "image/png": "[encoded data removed]",
      "text/plain": [
       "<matplotlib.figure.Figure at 0x7f6a9af1c940>"
      ]
     },
     "metadata": {},
     "output_type": "display_data"
    }
   ],
   "source": [
    "plt.scatter(X_test, Y_test,  color='black')\n",
    "plt.title('Test Data')\n",
    "plt.xlabel('score')\n",
    "plt.ylabel('num_comments')\n",
    "plt.xticks(())\n",
    "plt.yticks(())\n",
    "# Create linear regression object\n",
    "regr = linear_model.LinearRegression()\n",
    " \n",
    "# Train the model using the training sets\n",
    "regr.fit(X_train, Y_train)\n",
    " \n",
    "# Plot outputs\n",
    "plt.plot(X_test, regr.predict(X_test), color='red',linewidth=3)\n"
   ]
  },
  {
   "cell_type": "code",
   "execution_count": null,
   "metadata": {
    "collapsed": true
   },
   "outputs": [],
   "source": []
  }
 ],
 "metadata": {
  "kernelspec": {
   "display_name": "Python 3",
   "language": "python",
   "name": "python3"
  },
  "language_info": {
   "codemirror_mode": {
    "name": "ipython",
    "version": 3
   },
   "file_extension": ".py",
   "mimetype": "text/x-python",
   "name": "python",
   "nbconvert_exporter": "python",
   "pygments_lexer": "ipython3",
   "version": "3.6.3"
  }
 },
 "nbformat": 4,
 "nbformat_minor": 2
}
